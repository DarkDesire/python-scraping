{
 "cells": [
  {
   "cell_type": "code",
   "execution_count": 20,
   "metadata": {},
   "outputs": [
    {
     "name": "stdout",
     "output_type": "stream",
     "text": [
      "[['General-purpose', 'programming']]\n",
      "2-grams count is: 1\n"
     ]
    }
   ],
   "source": [
    "from urllib.request import urlopen\n",
    "from bs4 import BeautifulSoup\n",
    "\n",
    "def getNgrams(content, n):\n",
    "    content = content.split(' ')\n",
    "    output = []\n",
    "    for i in range(len(content)-n+1):\n",
    "        output.append(content[i:i+n])\n",
    "        return output\n",
    "\n",
    "html = urlopen('http://en.wikipedia.org/wiki/Python_(programming_language)')\n",
    "bs = BeautifulSoup(html, 'html.parser')\n",
    "content = bs.find('div', {'id':'mw-content-text'}).get_text()\n",
    "ngrams = getNgrams(content, 2)\n",
    "print(ngrams[:10])\n",
    "print('2-grams count is: '+str(len(ngrams)))"
   ]
  },
  {
   "cell_type": "code",
   "execution_count": 21,
   "metadata": {},
   "outputs": [],
   "source": [
    "import re\n",
    "\n",
    "def getNgrams(content, n):\n",
    "    content = re.sub('\\n|[[\\d+\\]]', ' ', content)\n",
    "    content = bytes(content, 'UTF-8')\n",
    "    content = content.decode('ascii', 'ignore')\n",
    "    content = content.split(' ')\n",
    "    content = [word for word in content if word != '']\n",
    "    output = []\n",
    "    for i in range(len(content)-n+1):\n",
    "        output.append(content[i:i+n])\n",
    "    return output"
   ]
  },
  {
   "cell_type": "code",
   "execution_count": 22,
   "metadata": {},
   "outputs": [
    {
     "name": "stdout",
     "output_type": "stream",
     "text": [
      "[['General-purpose', 'programming'], ['programming', 'language'], ['language', 'PythonParadigmMulti-paradigm:'], ['PythonParadigmMulti-paradigm:', 'object-oriented,'], ['object-oriented,', 'procedural'], ['procedural', '(imperative),'], ['(imperative),', 'functional,'], ['functional,', 'structured,'], ['structured,', 'reflectiveDesignedbyGuido'], ['reflectiveDesignedbyGuido', 'van']]\n",
      "2-grams count is: 12215\n"
     ]
    }
   ],
   "source": [
    "html = urlopen('http://en.wikipedia.org/wiki/Python_(programming_language)')\n",
    "bs = BeautifulSoup(html, 'html.parser')\n",
    "content = bs.find('div', {'id':'mw-content-text'}).get_text()\n",
    "ngrams = getNgrams(content, 2)\n",
    "print(ngrams[:10])\n",
    "print('2-grams count is: '+str(len(ngrams)))"
   ]
  },
  {
   "cell_type": "code",
   "execution_count": 23,
   "metadata": {},
   "outputs": [],
   "source": [
    "from urllib.request import urlopen\n",
    "from bs4 import BeautifulSoup\n",
    "import re\n",
    "import string\n",
    "\n",
    "def cleanSentence(sentence):\n",
    "    sentence = sentence.split(' ')\n",
    "    sentence = [word.strip(string.punctuation+string.whitespace) for word in sentence]\n",
    "    sentence = [word for word in sentence if len(word) > 1 or (word.lower() == 'a' or word.lower() == 'i')]\n",
    "    return sentence\n",
    "\n",
    "def cleanInput(content):\n",
    "    content = content.upper()\n",
    "    content = re.sub('\\n|[[\\d+\\]]', ' ', content)\n",
    "    content = bytes(content, \"UTF-8\")\n",
    "    content = content.decode(\"ascii\", \"ignore\")\n",
    "    sentences = content.split('. ')\n",
    "    return [cleanSentence(sentence) for sentence in sentences]\n",
    "\n",
    "def getNgramsFromSentence(content, n):\n",
    "    output = []\n",
    "    for i in range(len(content)-n+1):\n",
    "        output.append(content[i:i+n])\n",
    "    return output\n",
    "\n",
    "def getNgrams(content, n):\n",
    "    content = cleanInput(content)\n",
    "    ngrams = []\n",
    "    for sentence in content:\n",
    "        ngrams.extend(getNgramsFromSentence(sentence, n))\n",
    "    return(ngrams)\n",
    "        \n"
   ]
  },
  {
   "cell_type": "code",
   "execution_count": 24,
   "metadata": {},
   "outputs": [
    {
     "name": "stdout",
     "output_type": "stream",
     "text": [
      "9216\n"
     ]
    }
   ],
   "source": [
    "html = urlopen('http://en.wikipedia.org/wiki/Python_(programming_language)')\n",
    "bs = BeautifulSoup(html, 'html.parser')\n",
    "content = bs.find('div', {'id':'mw-content-text'}).get_text()\n",
    "print(len(getNgrams(content, 2)))"
   ]
  },
  {
   "cell_type": "code",
   "execution_count": 25,
   "metadata": {},
   "outputs": [],
   "source": [
    "from collections import Counter\n",
    "\n",
    "def getNgrams(content, n):\n",
    "    content = cleanInput(content)\n",
    "    ngrams = Counter()\n",
    "    ngrams_list = []\n",
    "    for sentence in content:\n",
    "        newNgrams = [' '.join(ngram) for ngram in getNgramsFromSentence(sentence, n)]\n",
    "        ngrams_list.extend(newNgrams)\n",
    "        ngrams.update(newNgrams)\n",
    "    return(ngrams)"
   ]
  },
  {
   "cell_type": "code",
   "execution_count": 26,
   "metadata": {},
   "outputs": [],
   "source": [
    "#print(getNgrams(content, 2))"
   ]
  },
  {
   "cell_type": "code",
   "execution_count": 27,
   "metadata": {},
   "outputs": [],
   "source": [
    "min_threshold = 10\n",
    "newdict = {x: count for x, count in sorted(getNgrams(content, 2).items(), key=lambda item: -item[1]) if count >= min_threshold}"
   ]
  },
  {
   "cell_type": "code",
   "execution_count": 28,
   "metadata": {},
   "outputs": [
    {
     "name": "stdout",
     "output_type": "stream",
     "text": [
      "{'FROM THE': 218, 'THE ORIGINAL': 209, 'ORIGINAL ON': 207, 'ARCHIVED FROM': 204, 'ON JUNE': 60, 'SOFTWARE FOUNDATION': 38, 'PYTHON SOFTWARE': 38, 'OF THE': 36, 'OF PYTHON': 33, 'IN PYTHON': 33, 'RETRIEVED FEBRUARY': 30, 'RETRIEVED MARCH': 28, 'IN THE': 25, 'RETRIEVED JANUARY': 23, 'SUCH AS': 22, 'AS A': 21, 'THE PYTHON': 21, 'ON MAY': 21, 'VAN ROSSUM': 20, 'IS A': 19, 'PROGRAMMING LANGUAGE': 18, 'ON OCTOBER': 18, 'RETRIEVED NOVEMBER': 18, 'ON DECEMBER': 17, 'RETRIEVED JUNE': 17, 'ON APRIL': 17, 'RETRIEVED JULY': 16, 'RETRIEVED APRIL': 16, 'TO THE': 15, 'ON MARCH': 15, 'CAN BE': 14, 'BE USED': 14, 'PYTHON ENHANCEMENT': 14, 'RETRIEVED MAY': 14, 'RETRIEVED DECEMBER': 14, 'ON FEBRUARY': 14, 'PYTHON IS': 13, 'TO BE': 13, 'FOR PYTHON': 13, 'ENHANCEMENT PROPOSALS': 13, 'RETRIEVED SEPTEMBER': 13, 'IT IS': 12, 'STANDARD LIBRARY': 12, 'ON AUGUST': 12, 'ROSSUM GUIDO': 12, 'ON JANUARY': 12, 'TO PYTHON': 11, 'OF A': 11, 'STATEMENT WHICH': 11, 'USED TO': 11, 'WITH THE': 10, 'OTHER LANGUAGES': 10, 'RETRIEVED AUGUST': 10, 'ON NOVEMBER': 10, 'ON JULY': 10}\n"
     ]
    }
   ],
   "source": [
    "print(newdict)"
   ]
  }
 ],
 "metadata": {
  "kernelspec": {
   "display_name": "Python 3 (ipykernel)",
   "language": "python",
   "name": "python3"
  },
  "language_info": {
   "codemirror_mode": {
    "name": "ipython",
    "version": 3
   },
   "file_extension": ".py",
   "mimetype": "text/x-python",
   "name": "python",
   "nbconvert_exporter": "python",
   "pygments_lexer": "ipython3",
   "version": "3.9.6"
  }
 },
 "nbformat": 4,
 "nbformat_minor": 2
}
